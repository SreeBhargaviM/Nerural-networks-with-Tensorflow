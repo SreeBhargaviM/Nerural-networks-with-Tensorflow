{
  "nbformat": 4,
  "nbformat_minor": 0,
  "metadata": {
    "colab": {
      "name": "Untitled20.ipynb",
      "provenance": [],
      "collapsed_sections": [],
      "authorship_tag": "ABX9TyMRxUKo9kDvJ5RLsK1Deevg",
      "include_colab_link": true
    },
    "kernelspec": {
      "name": "python3",
      "display_name": "Python 3"
    }
  },
  "cells": [
    {
      "cell_type": "markdown",
      "metadata": {
        "id": "view-in-github",
        "colab_type": "text"
      },
      "source": [
        "<a href=\"https://colab.research.google.com/github/SreeBhargaviM/Neural-networks-with-Tensorflow/blob/master/Positive_negative_reviews_2layerLSTM.ipynb\" target=\"_parent\"><img src=\"https://colab.research.google.com/assets/colab-badge.svg\" alt=\"Open In Colab\"/></a>"
      ]
    },
    {
      "cell_type": "code",
      "metadata": {
        "id": "5_8qXz3o0yCr",
        "colab_type": "code",
        "colab": {}
      },
      "source": [
        "import pandas as pd"
      ],
      "execution_count": 1,
      "outputs": []
    },
    {
      "cell_type": "code",
      "metadata": {
        "id": "ai5a1c3v4NsI",
        "colab_type": "code",
        "colab": {}
      },
      "source": [
        "train = pd.read_csv('train.csv', engine='python', error_bad_lines=False)\n",
        "test = pd.read_csv('test.csv', engine='python', error_bad_lines=False)"
      ],
      "execution_count": 2,
      "outputs": []
    },
    {
      "cell_type": "code",
      "metadata": {
        "id": "rDiHkzW_552L",
        "colab_type": "code",
        "colab": {
          "base_uri": "https://localhost:8080/",
          "height": 85
        },
        "outputId": "34b7675c-62f5-4523-899c-351c61a275a9"
      },
      "source": [
        "train.columns"
      ],
      "execution_count": 3,
      "outputs": [
        {
          "output_type": "execute_result",
          "data": {
            "text/plain": [
              "Index(['employee ID', 'Place', 'location', 'date', 'status', 'job_title',\n",
              "       'summary', 'positives', 'negatives', 'advice_to_mgmt', 'score_1',\n",
              "       'score_2', 'score_3', 'score_4', 'score_5', 'score_6', 'overall'],\n",
              "      dtype='object')"
            ]
          },
          "metadata": {
            "tags": []
          },
          "execution_count": 3
        }
      ]
    },
    {
      "cell_type": "code",
      "metadata": {
        "id": "t7Om4sUO6Fe_",
        "colab_type": "code",
        "colab": {}
      },
      "source": [
        "train_data = []\n",
        "test_data = []"
      ],
      "execution_count": 4,
      "outputs": []
    },
    {
      "cell_type": "code",
      "metadata": {
        "id": "B2iuhA1kT4sE",
        "colab_type": "code",
        "colab": {
          "base_uri": "https://localhost:8080/",
          "height": 52
        },
        "outputId": "381c7a1b-df61-4dd6-8a58-9b15b6eee2ef"
      },
      "source": [
        "test['negatives'][100]"
      ],
      "execution_count": 11,
      "outputs": [
        {
          "output_type": "execute_result",
          "data": {
            "application/vnd.google.colaboratory.intrinsic+json": {
              "type": "string"
            },
            "text/plain": [
              "'Google only use its own tools, as a new-grad student, I do feel some pressure learning so many tools at the same time.'"
            ]
          },
          "metadata": {
            "tags": []
          },
          "execution_count": 11
        }
      ]
    },
    {
      "cell_type": "code",
      "metadata": {
        "id": "86VyArMF7sac",
        "colab_type": "code",
        "colab": {}
      },
      "source": [
        "def join_review(a,b):\n",
        "  l = []\n",
        "  for i in range(len(a)):\n",
        "    inter = '' + str(a[i]) + '.' + ' ' + str(b[i])\n",
        "    l.append(inter)\n",
        "  return l"
      ],
      "execution_count": 15,
      "outputs": []
    },
    {
      "cell_type": "code",
      "metadata": {
        "id": "MGQfPY-e8SA7",
        "colab_type": "code",
        "colab": {}
      },
      "source": [
        "train_data = join_review(train['positives'],train['negatives'])\n",
        "test_data = join_review(test['positives'],test['negatives'])"
      ],
      "execution_count": 16,
      "outputs": []
    },
    {
      "cell_type": "code",
      "metadata": {
        "id": "G99-N14UUaW8",
        "colab_type": "code",
        "colab": {
          "base_uri": "https://localhost:8080/",
          "height": 103
        },
        "outputId": "efe326cf-5227-4c9f-e208-0696a4b4af0a"
      },
      "source": [
        "train_data[100]"
      ],
      "execution_count": 49,
      "outputs": [
        {
          "output_type": "execute_result",
          "data": {
            "application/vnd.google.colaboratory.intrinsic+json": {
              "type": "string"
            },
            "text/plain": [
              "'Possibly a growth company but financial problems create much uncertainty. I was hired through an Agency as a contract employee for 90 days, then offered a full-time position. This position lasted all of 24 days, then I was let go due to financial problems at the company. To make matters worse, I was told that I would receive severance on the forms I asked to sign. The company has reneged on that. I witnessed a parade of hiring/firing due to the lack of any business acumen, very poor communication and no evidence of a positive culture.'"
            ]
          },
          "metadata": {
            "tags": []
          },
          "execution_count": 49
        }
      ]
    },
    {
      "cell_type": "code",
      "metadata": {
        "id": "S5f5bD35VTL3",
        "colab_type": "code",
        "colab": {
          "base_uri": "https://localhost:8080/",
          "height": 34
        },
        "outputId": "5c94a7fc-e521-49d7-d4d8-08d6ca43fabc"
      },
      "source": [
        "train['overall'][0]"
      ],
      "execution_count": 22,
      "outputs": [
        {
          "output_type": "execute_result",
          "data": {
            "text/plain": [
              "5"
            ]
          },
          "metadata": {
            "tags": []
          },
          "execution_count": 22
        }
      ]
    },
    {
      "cell_type": "code",
      "metadata": {
        "id": "dTCUItcwWNJ2",
        "colab_type": "code",
        "colab": {}
      },
      "source": [
        "train_label = []"
      ],
      "execution_count": 27,
      "outputs": []
    },
    {
      "cell_type": "code",
      "metadata": {
        "id": "jL8hCdWmVcq-",
        "colab_type": "code",
        "colab": {}
      },
      "source": [
        "for i in range(len(train['overall'])):\n",
        "  train_label.append(train['overall'][i])"
      ],
      "execution_count": 29,
      "outputs": []
    },
    {
      "cell_type": "code",
      "metadata": {
        "id": "i9yc_IVfV7ZC",
        "colab_type": "code",
        "colab": {
          "base_uri": "https://localhost:8080/",
          "height": 34
        },
        "outputId": "bf06b57f-7a5e-42d2-b40a-8ac728a8a4bf"
      },
      "source": [
        "train_label[10]"
      ],
      "execution_count": 30,
      "outputs": [
        {
          "output_type": "execute_result",
          "data": {
            "text/plain": [
              "4"
            ]
          },
          "metadata": {
            "tags": []
          },
          "execution_count": 30
        }
      ]
    },
    {
      "cell_type": "code",
      "metadata": {
        "id": "wvA4QqMKiknJ",
        "colab_type": "code",
        "colab": {
          "base_uri": "https://localhost:8080/",
          "height": 34
        },
        "outputId": "9705d6ac-2381-47be-e036-781c566d9762"
      },
      "source": [
        "train_label = np.array(train_label)\n",
        "train_label[0:10]"
      ],
      "execution_count": 42,
      "outputs": [
        {
          "output_type": "execute_result",
          "data": {
            "text/plain": [
              "array([5, 5, 5, 4, 4, 5, 3, 5, 5, 5])"
            ]
          },
          "metadata": {
            "tags": []
          },
          "execution_count": 42
        }
      ]
    },
    {
      "cell_type": "code",
      "metadata": {
        "id": "JgpaP-FOgzq6",
        "colab_type": "code",
        "colab": {}
      },
      "source": [
        "import numpy as np\n",
        "import tensorflow as tf\n",
        "from tensorflow import keras\n",
        "from tensorflow.keras import layers\n",
        "from keras.models import Sequential\n",
        "from keras.layers import Dense\n",
        "from keras.utils import to_categorical"
      ],
      "execution_count": 32,
      "outputs": []
    },
    {
      "cell_type": "code",
      "metadata": {
        "id": "CVVT7_4Ohepn",
        "colab_type": "code",
        "colab": {
          "base_uri": "https://localhost:8080/",
          "height": 34
        },
        "outputId": "4f1408f1-2003-4f54-adfa-bb162eb7fae4"
      },
      "source": [
        "train_label = np.array(train_label)\n",
        "train_label1 = tf.keras.utils.to_categorical(train_label)\n",
        "train_label1[3]"
      ],
      "execution_count": 46,
      "outputs": [
        {
          "output_type": "execute_result",
          "data": {
            "text/plain": [
              "0.0"
            ]
          },
          "metadata": {
            "tags": []
          },
          "execution_count": 46
        }
      ]
    },
    {
      "cell_type": "code",
      "metadata": {
        "id": "v0HRFbhnkXe4",
        "colab_type": "code",
        "colab": {
          "base_uri": "https://localhost:8080/",
          "height": 34
        },
        "outputId": "55a3c834-903c-4f36-ea64-cbd7d58e8e1f"
      },
      "source": [
        "n = np.shape(train_label1)\n",
        "n"
      ],
      "execution_count": 47,
      "outputs": [
        {
          "output_type": "execute_result",
          "data": {
            "text/plain": [
              "(60672, 6)"
            ]
          },
          "metadata": {
            "tags": []
          },
          "execution_count": 47
        }
      ]
    },
    {
      "cell_type": "code",
      "metadata": {
        "id": "6geQpNVSlcIr",
        "colab_type": "code",
        "colab": {}
      },
      "source": [
        "from tensorflow.keras.preprocessing.text import Tokenizer\n",
        "from tensorflow.keras.preprocessing.sequence import pad_sequences"
      ],
      "execution_count": 48,
      "outputs": []
    },
    {
      "cell_type": "code",
      "metadata": {
        "id": "guclKCXwnEQO",
        "colab_type": "code",
        "colab": {}
      },
      "source": [
        "boring_words = ['in', 'a', 'the', 'for', 'and', 'with', 'an', 'was', 'that', 'this', 'them', 'they', 'at', 'of', 'as', 'I', 'to', 'told', 'would', 'could', 'due', 'then', 'any']"
      ],
      "execution_count": 70,
      "outputs": []
    },
    {
      "cell_type": "code",
      "metadata": {
        "id": "jlafweg_zRSw",
        "colab_type": "code",
        "colab": {}
      },
      "source": [
        "def filter_stop_words(train_sentences, stop_words):\n",
        "    for i, sentence in enumerate(train_sentences):\n",
        "        new_sent = [word for word in sentence.split() if word not in stop_words]\n",
        "        train_sentences[i] = ' '.join(new_sent)\n",
        "    return train_sentences\n",
        "\n",
        "stop_words = boring_words\n",
        "train_data = filter_stop_words(train_data, stop_words)"
      ],
      "execution_count": 71,
      "outputs": []
    },
    {
      "cell_type": "code",
      "metadata": {
        "id": "jPSv8JCJzrOS",
        "colab_type": "code",
        "colab": {
          "base_uri": "https://localhost:8080/",
          "height": 34
        },
        "outputId": "35f9e9a6-1fdf-40cb-b28d-1e722e28b830"
      },
      "source": [
        "len(train_data[100])"
      ],
      "execution_count": 73,
      "outputs": [
        {
          "output_type": "execute_result",
          "data": {
            "text/plain": [
              "418"
            ]
          },
          "metadata": {
            "tags": []
          },
          "execution_count": 73
        }
      ]
    },
    {
      "cell_type": "code",
      "metadata": {
        "id": "uE1VjviAmYSS",
        "colab_type": "code",
        "colab": {}
      },
      "source": [
        "train_data = np.array(train_data)"
      ],
      "execution_count": 74,
      "outputs": []
    },
    {
      "cell_type": "code",
      "metadata": {
        "id": "pFhzwb4Zmuaq",
        "colab_type": "code",
        "colab": {}
      },
      "source": [
        "tokenizer = Tokenizer(num_words = 10000, oov_token='<OOV>')\n",
        "tokenizer.fit_on_texts(train_data)\n",
        "word_index = tokenizer.word_index\n",
        "sequences = tokenizer.texts_to_sequences(train_data)\n",
        "padded = pad_sequences(sequences,maxlen= 150, truncating= 'post')\n",
        "\n",
        "testing_sequences = tokenizer.texts_to_sequences(test_data)\n",
        "testing_padded = pad_sequences(testing_sequences,maxlen= 150)"
      ],
      "execution_count": 76,
      "outputs": []
    },
    {
      "cell_type": "code",
      "metadata": {
        "id": "Yo3LWMEjrbko",
        "colab_type": "code",
        "colab": {
          "base_uri": "https://localhost:8080/",
          "height": 34
        },
        "outputId": "04c6094d-f584-444c-c70e-1e2eb678ba6c"
      },
      "source": [
        "x = np.shape(padded)\n",
        "x"
      ],
      "execution_count": 77,
      "outputs": [
        {
          "output_type": "execute_result",
          "data": {
            "text/plain": [
              "(30336, 150)"
            ]
          },
          "metadata": {
            "tags": []
          },
          "execution_count": 77
        }
      ]
    },
    {
      "cell_type": "code",
      "metadata": {
        "id": "hTSRozA5odDE",
        "colab_type": "code",
        "colab": {
          "base_uri": "https://localhost:8080/",
          "height": 323
        },
        "outputId": "ca92a7d6-0c6e-4e37-83bd-b466dec273cd"
      },
      "source": [
        "model = tf.keras.Sequential([\n",
        "    tf.keras.layers.Embedding(10000, 64, input_length=150),\n",
        "    tf.keras.layers.BatchNormalization(),\n",
        "    tf.keras.layers.LSTM(64, return_sequences=True),\n",
        "    tf.keras.layers.LSTM(32),\n",
        "    #tf.keras.layers.Dense(15, activation='relu'),\n",
        "    tf.keras.layers.Dense(6, activation='softmax')\n",
        "])\n",
        "model.compile(loss='categorical_crossentropy', optimizer='adam', metrics=['accuracy'])\n",
        "model.summary()"
      ],
      "execution_count": 93,
      "outputs": [
        {
          "output_type": "stream",
          "text": [
            "Model: \"sequential_10\"\n",
            "_________________________________________________________________\n",
            "Layer (type)                 Output Shape              Param #   \n",
            "=================================================================\n",
            "embedding_10 (Embedding)     (None, 150, 64)           640000    \n",
            "_________________________________________________________________\n",
            "batch_normalization_5 (Batch (None, 150, 64)           256       \n",
            "_________________________________________________________________\n",
            "lstm_11 (LSTM)               (None, 150, 64)           33024     \n",
            "_________________________________________________________________\n",
            "lstm_12 (LSTM)               (None, 32)                12416     \n",
            "_________________________________________________________________\n",
            "dense_16 (Dense)             (None, 6)                 198       \n",
            "=================================================================\n",
            "Total params: 685,894\n",
            "Trainable params: 685,766\n",
            "Non-trainable params: 128\n",
            "_________________________________________________________________\n"
          ],
          "name": "stdout"
        }
      ]
    },
    {
      "cell_type": "code",
      "metadata": {
        "id": "bTE4joEMs5uW",
        "colab_type": "code",
        "colab": {
          "base_uri": "https://localhost:8080/",
          "height": 394
        },
        "outputId": "9a860a8d-3c3e-4d3d-dbbd-131d2f0bc2fc"
      },
      "source": [
        "model.fit(padded, train_label1, epochs=10, batch_size=45 ,validation_split=0.1)"
      ],
      "execution_count": 94,
      "outputs": [
        {
          "output_type": "stream",
          "text": [
            "Epoch 1/10\n",
            "607/607 [==============================] - 108s 177ms/step - loss: 1.3730 - accuracy: 0.3580 - val_loss: 1.3451 - val_accuracy: 0.3780\n",
            "Epoch 2/10\n",
            "607/607 [==============================] - 109s 180ms/step - loss: 1.2703 - accuracy: 0.4106 - val_loss: 1.3488 - val_accuracy: 0.3593\n",
            "Epoch 3/10\n",
            "607/607 [==============================] - 109s 180ms/step - loss: 1.1193 - accuracy: 0.5141 - val_loss: 1.4438 - val_accuracy: 0.3395\n",
            "Epoch 4/10\n",
            "607/607 [==============================] - 109s 179ms/step - loss: 0.9128 - accuracy: 0.6241 - val_loss: 1.6240 - val_accuracy: 0.3378\n",
            "Epoch 5/10\n",
            "607/607 [==============================] - 111s 183ms/step - loss: 0.6863 - accuracy: 0.7335 - val_loss: 1.9204 - val_accuracy: 0.3210\n",
            "Epoch 6/10\n",
            "607/607 [==============================] - 109s 179ms/step - loss: 0.4992 - accuracy: 0.8144 - val_loss: 2.3048 - val_accuracy: 0.3171\n",
            "Epoch 7/10\n",
            "607/607 [==============================] - 109s 179ms/step - loss: 0.3607 - accuracy: 0.8688 - val_loss: 2.6205 - val_accuracy: 0.3187\n",
            "Epoch 8/10\n",
            "607/607 [==============================] - 109s 180ms/step - loss: 0.2602 - accuracy: 0.9077 - val_loss: 2.9778 - val_accuracy: 0.3171\n",
            "Epoch 9/10\n",
            "607/607 [==============================] - 108s 178ms/step - loss: 0.2001 - accuracy: 0.9301 - val_loss: 3.3362 - val_accuracy: 0.3154\n",
            "Epoch 10/10\n",
            "607/607 [==============================] - 108s 177ms/step - loss: 0.1618 - accuracy: 0.9440 - val_loss: 3.5957 - val_accuracy: 0.2970\n"
          ],
          "name": "stdout"
        },
        {
          "output_type": "execute_result",
          "data": {
            "text/plain": [
              "<tensorflow.python.keras.callbacks.History at 0x7fcb91c5ad30>"
            ]
          },
          "metadata": {
            "tags": []
          },
          "execution_count": 94
        }
      ]
    }
  ]
}