{
  "nbformat": 4,
  "nbformat_minor": 0,
  "metadata": {
    "colab": {
      "name": "Untitled21.ipynb",
      "provenance": [],
      "authorship_tag": "ABX9TyMKMA/RZp8tgR/jMq60askk",
      "include_colab_link": true
    },
    "kernelspec": {
      "name": "python3",
      "display_name": "Python 3"
    }
  },
  "cells": [
    {
      "cell_type": "markdown",
      "metadata": {
        "id": "view-in-github",
        "colab_type": "text"
      },
      "source": [
        "<a href=\"https://colab.research.google.com/github/SreeBhargaviM/Neural-networks-with-Tensorflow/blob/master/nlp_concatenated_networks.ipynb\" target=\"_parent\"><img src=\"https://colab.research.google.com/assets/colab-badge.svg\" alt=\"Open In Colab\"/></a>"
      ]
    },
    {
      "cell_type": "code",
      "metadata": {
        "id": "MHtP9sBkzAr3",
        "colab_type": "code",
        "colab": {}
      },
      "source": [
        "import pandas as pd\n",
        "train = pd.read_csv('train_clean.csv', engine='python', error_bad_lines=False)\n",
        "new = pd.read_csv('test.csv', engine='python', error_bad_lines=False)"
      ],
      "execution_count": 38,
      "outputs": []
    },
    {
      "cell_type": "code",
      "metadata": {
        "id": "NNQUm8u-0TlC",
        "colab_type": "code",
        "colab": {
          "base_uri": "https://localhost:8080/",
          "height": 85
        },
        "outputId": "975e48dc-68fe-498a-82cc-1bd0de229801"
      },
      "source": [
        "train.columns"
      ],
      "execution_count": 39,
      "outputs": [
        {
          "output_type": "execute_result",
          "data": {
            "text/plain": [
              "Index(['employee ID', 'Place', 'location', 'date', 'status', 'job_title',\n",
              "       'summary', 'positives', 'negatives', 'advice_to_mgmt', 'score_1',\n",
              "       'score_2', 'score_3', 'score_4', 'score_5', 'score_6', 'overall'],\n",
              "      dtype='object')"
            ]
          },
          "metadata": {
            "tags": []
          },
          "execution_count": 39
        }
      ]
    },
    {
      "cell_type": "code",
      "metadata": {
        "id": "CuGJVPz80Xcb",
        "colab_type": "code",
        "colab": {
          "base_uri": "https://localhost:8080/",
          "height": 85
        },
        "outputId": "6e2d8fef-257a-45cd-add5-2fdd749d77a2"
      },
      "source": [
        "new.columns"
      ],
      "execution_count": 40,
      "outputs": [
        {
          "output_type": "execute_result",
          "data": {
            "text/plain": [
              "Index(['employeeID', 'Place', 'location', 'date', 'status', 'job_title',\n",
              "       'summary', 'positives', 'negatives', 'advice_to_mgmt', 'score_1',\n",
              "       'score_2', 'score_3', 'score_4', 'score_5', 'score_6'],\n",
              "      dtype='object')"
            ]
          },
          "metadata": {
            "tags": []
          },
          "execution_count": 40
        }
      ]
    },
    {
      "cell_type": "code",
      "metadata": {
        "id": "AROZLffM3WVZ",
        "colab_type": "code",
        "colab": {
          "base_uri": "https://localhost:8080/",
          "height": 34
        },
        "outputId": "1ea502a5-aa56-45d0-e87a-cf10ddc44c1e"
      },
      "source": [
        "len(train['negatives'])"
      ],
      "execution_count": 41,
      "outputs": [
        {
          "output_type": "execute_result",
          "data": {
            "text/plain": [
              "30298"
            ]
          },
          "metadata": {
            "tags": []
          },
          "execution_count": 41
        }
      ]
    },
    {
      "cell_type": "code",
      "metadata": {
        "id": "2qo0CiPUAW6q",
        "colab_type": "code",
        "colab": {}
      },
      "source": [
        "train = train.sample(frac=1)\n",
        "new = new.sample(frac=1)"
      ],
      "execution_count": 42,
      "outputs": []
    },
    {
      "cell_type": "code",
      "metadata": {
        "id": "VEp1haU-0hAO",
        "colab_type": "code",
        "colab": {}
      },
      "source": [
        "train_data1 = list(train['positives'][:30000])\n",
        "train_data2 = list(train['negatives'][:30000])"
      ],
      "execution_count": 43,
      "outputs": []
    },
    {
      "cell_type": "code",
      "metadata": {
        "id": "_w87tY16DCnd",
        "colab_type": "code",
        "colab": {
          "base_uri": "https://localhost:8080/",
          "height": 35
        },
        "outputId": "47ec4350-49b4-44ef-84f1-b5395029dc33"
      },
      "source": [
        "train_data1[-1]"
      ],
      "execution_count": 44,
      "outputs": [
        {
          "output_type": "execute_result",
          "data": {
            "application/vnd.google.colaboratory.intrinsic+json": {
              "type": "string"
            },
            "text/plain": [
              "'cool people around, great work going on'"
            ]
          },
          "metadata": {
            "tags": []
          },
          "execution_count": 44
        }
      ]
    },
    {
      "cell_type": "code",
      "metadata": {
        "id": "EDUVD3pMAbIP",
        "colab_type": "code",
        "colab": {}
      },
      "source": [
        "test_data1 = list(train['positives'][30000:])\n",
        "test_data2 = list(train['negatives'][30000:])"
      ],
      "execution_count": 45,
      "outputs": []
    },
    {
      "cell_type": "code",
      "metadata": {
        "id": "AWHgCSQZC6CG",
        "colab_type": "code",
        "colab": {
          "base_uri": "https://localhost:8080/",
          "height": 35
        },
        "outputId": "180b6736-ff4e-4ff8-a41b-5f187baca375"
      },
      "source": [
        "test_data1[1]"
      ],
      "execution_count": 46,
      "outputs": [
        {
          "output_type": "execute_result",
          "data": {
            "application/vnd.google.colaboratory.intrinsic+json": {
              "type": "string"
            },
            "text/plain": [
              "'Part Time, Weekly Pay, 4 HR Shifts, Non-Customer contact, a nice job to have to supplement your income.'"
            ]
          },
          "metadata": {
            "tags": []
          },
          "execution_count": 46
        }
      ]
    },
    {
      "cell_type": "code",
      "metadata": {
        "id": "PgPmo_qHBsBQ",
        "colab_type": "code",
        "colab": {}
      },
      "source": [
        "for i in range(len(train_data1)):\n",
        "  train_data1[i] = train_data1[i].lower()\n",
        "  train_data2[i] = train_data2[i].lower()\n",
        "for i in range(len(test_data1)):\n",
        "  test_data1[i] = str(test_data1[i]).lower()\n",
        "  test_data2[i] = test_data2[i].lower()\n"
      ],
      "execution_count": 47,
      "outputs": []
    },
    {
      "cell_type": "code",
      "metadata": {
        "id": "lFl5d6dR69i1",
        "colab_type": "code",
        "colab": {}
      },
      "source": [
        "import numpy as np\n",
        "import tensorflow as tf\n",
        "from tensorflow import keras\n",
        "from tensorflow.keras import layers\n",
        "from keras.models import Sequential\n",
        "from keras.layers import Dense\n",
        "from keras.utils import to_categorical\n",
        "from tensorflow.keras.preprocessing.text import Tokenizer\n",
        "from tensorflow.keras.preprocessing.sequence import pad_sequences"
      ],
      "execution_count": 48,
      "outputs": []
    },
    {
      "cell_type": "code",
      "metadata": {
        "id": "aKUyrs2KBFeT",
        "colab_type": "code",
        "colab": {}
      },
      "source": [
        "def filter_stop_words(train_sentences, stop_words):\n",
        "    for i, sentence in enumerate(train_sentences):\n",
        "        new_sent = [word for word in sentence.split() if word not in stop_words]\n",
        "        train_sentences[i] = ' '.join(new_sent)\n",
        "    return train_sentences"
      ],
      "execution_count": 49,
      "outputs": []
    },
    {
      "cell_type": "code",
      "metadata": {
        "id": "_ejkkXnKBLxd",
        "colab_type": "code",
        "colab": {
          "base_uri": "https://localhost:8080/",
          "height": 51
        },
        "outputId": "baced32e-2707-446a-dfc3-cfc7d79e983f"
      },
      "source": [
        "import nltk\n",
        "nltk.download('stopwords')\n",
        "from nltk.corpus import stopwords\n"
      ],
      "execution_count": 15,
      "outputs": [
        {
          "output_type": "stream",
          "text": [
            "[nltk_data] Downloading package stopwords to /root/nltk_data...\n",
            "[nltk_data]   Unzipping corpora/stopwords.zip.\n"
          ],
          "name": "stdout"
        }
      ]
    },
    {
      "cell_type": "code",
      "metadata": {
        "id": "ZmCVhvNwBiTN",
        "colab_type": "code",
        "colab": {}
      },
      "source": [
        "stop_words = set(stopwords.words(\"english\"))\n",
        "train_data1 = np.array(filter_stop_words(train_data1, stop_words))\n",
        "train_data2 = np.array(filter_stop_words(train_data2, stop_words))\n",
        "test_data1 = np.array(filter_stop_words(test_data1, stop_words))\n",
        "test_data2 = np.array(filter_stop_words(test_data2, stop_words))"
      ],
      "execution_count": 50,
      "outputs": []
    },
    {
      "cell_type": "code",
      "metadata": {
        "id": "3oRX7YLfEIKv",
        "colab_type": "code",
        "colab": {
          "base_uri": "https://localhost:8080/",
          "height": 35
        },
        "outputId": "83ae274e-fb8b-4a8c-9064-09cfc73d7ee6"
      },
      "source": [
        "train_data1[2600]"
      ],
      "execution_count": 53,
      "outputs": [
        {
          "output_type": "execute_result",
          "data": {
            "application/vnd.google.colaboratory.intrinsic+json": {
              "type": "string"
            },
            "text/plain": [
              "'educated people, well managed, sales oriented canada. products becoming better.'"
            ]
          },
          "metadata": {
            "tags": []
          },
          "execution_count": 53
        }
      ]
    },
    {
      "cell_type": "code",
      "metadata": {
        "id": "wWH6sN58E2nP",
        "colab_type": "code",
        "colab": {}
      },
      "source": [
        "tokenizer1 = Tokenizer( num_words = 25000, oov_token='<OOV>')\n",
        "tokenizer1.fit_on_texts(train_data1)\n",
        "word_index1 = tokenizer1.word_index\n",
        "vocab_len1 = len(word_index1)\n",
        "sequences1 = tokenizer1.texts_to_sequences(train_data1)\n",
        "padded1 = pad_sequences(sequences1,maxlen= 20, truncating= 'post')\n",
        "\n",
        "testing_sequences = tokenizer1.texts_to_sequences(test_data1)\n",
        "testing_padded = pad_sequences(testing_sequences,maxlen= 20, truncating= 'post')"
      ],
      "execution_count": 54,
      "outputs": []
    },
    {
      "cell_type": "code",
      "metadata": {
        "id": "xcTucnEtF6xi",
        "colab_type": "code",
        "colab": {}
      },
      "source": [
        "tokenizer2 = Tokenizer( num_words = 25000, oov_token='<OOV>')\n",
        "tokenizer2.fit_on_texts(train_data2)\n",
        "word_index2 = tokenizer2.word_index\n",
        "vocab_len2 = len(word_index2)\n",
        "sequences2 = tokenizer2.texts_to_sequences(train_data2)\n",
        "padded2 = pad_sequences(sequences2,maxlen= 20, truncating= 'post')\n",
        "\n",
        "testing_sequences2 = tokenizer2.texts_to_sequences(test_data2)\n",
        "testing_padded2 = pad_sequences(testing_sequences2,maxlen= 20, truncating= 'post')"
      ],
      "execution_count": 55,
      "outputs": []
    },
    {
      "cell_type": "code",
      "metadata": {
        "id": "b8Cc9NlhO9yx",
        "colab_type": "code",
        "colab": {
          "base_uri": "https://localhost:8080/",
          "height": 34
        },
        "outputId": "f203e876-7845-42c5-f5fc-99e20215c6bb"
      },
      "source": [
        "len(word_index2)"
      ],
      "execution_count": 56,
      "outputs": [
        {
          "output_type": "execute_result",
          "data": {
            "text/plain": [
              "20725"
            ]
          },
          "metadata": {
            "tags": []
          },
          "execution_count": 56
        }
      ]
    },
    {
      "cell_type": "code",
      "metadata": {
        "id": "v6QFu370H_UW",
        "colab_type": "code",
        "colab": {
          "base_uri": "https://localhost:8080/",
          "height": 34
        },
        "outputId": "6e314722-6729-42fd-e311-6a0f10b00344"
      },
      "source": [
        "np.shape(padded2)"
      ],
      "execution_count": 57,
      "outputs": [
        {
          "output_type": "execute_result",
          "data": {
            "text/plain": [
              "(30000, 20)"
            ]
          },
          "metadata": {
            "tags": []
          },
          "execution_count": 57
        }
      ]
    },
    {
      "cell_type": "code",
      "metadata": {
        "id": "Av56dEL7Gndq",
        "colab_type": "code",
        "colab": {}
      },
      "source": [
        "train_labels = np.array(list(train['overall'][:30000]))\n",
        "test_labels = np.array(list(train['overall'][30000:]))"
      ],
      "execution_count": 58,
      "outputs": []
    },
    {
      "cell_type": "code",
      "metadata": {
        "id": "mMMxffWYHe27",
        "colab_type": "code",
        "colab": {}
      },
      "source": [
        "train_label1 = tf.keras.utils.to_categorical(train_labels)\n",
        "test_label1 = tf.keras.utils.to_categorical(test_labels)"
      ],
      "execution_count": 59,
      "outputs": []
    },
    {
      "cell_type": "code",
      "metadata": {
        "id": "Tp-Glj0vH3Hl",
        "colab_type": "code",
        "colab": {}
      },
      "source": [
        "input1 = tf.keras.layers.Input(shape=(20,))\n",
        "x = tf.keras.layers.Embedding(25000, 24, input_length=20)(input1)\n",
        "x = tf.keras.layers.BatchNormalization()(x)\n",
        "x = tf.keras.layers.LSTM(32, dropout=0.2, recurrent_dropout=0.2, return_sequences=True)(x)\n",
        "x = tf.keras.layers.LSTM(16, dropout=0.2, recurrent_dropout=0.2)(x)\n",
        "#x = tf.keras.layers.Dense(16, activation='relu')(x)"
      ],
      "execution_count": 67,
      "outputs": []
    },
    {
      "cell_type": "code",
      "metadata": {
        "id": "GdK8hCEzJGq1",
        "colab_type": "code",
        "colab": {}
      },
      "source": [
        "input2 = tf.keras.layers.Input(shape=(20,))\n",
        "y = tf.keras.layers.Embedding(25000, 24, input_length=20)(input2)\n",
        "y = tf.keras.layers.BatchNormalization()(y)\n",
        "y = tf.keras.layers.LSTM(32, dropout=0.2, recurrent_dropout=0.2, return_sequences=True)(y)\n",
        "y = tf.keras.layers.LSTM(16, dropout=0.2, recurrent_dropout=0.2)(y)\n",
        "#y = tf.keras.layers.Dense(16, activation='relu')(y)"
      ],
      "execution_count": 68,
      "outputs": []
    },
    {
      "cell_type": "code",
      "metadata": {
        "id": "4DIP6OcZJXXQ",
        "colab_type": "code",
        "colab": {}
      },
      "source": [
        "comb = tf.keras.layers.Concatenate()([x,y])\n",
        "#fin_dense = tf.keras.layers.Dense(8, activation='relu')(comb)\n",
        "fin = tf.keras.layers.Dense(6, activation='softmax')(comb)\n"
      ],
      "execution_count": 69,
      "outputs": []
    },
    {
      "cell_type": "code",
      "metadata": {
        "id": "CNa_e5clLEaf",
        "colab_type": "code",
        "colab": {
          "base_uri": "https://localhost:8080/",
          "height": 595
        },
        "outputId": "a8a94aed-efea-463b-8d27-e9dc040006af"
      },
      "source": [
        "model = tf.keras.Model(inputs=[input1, input2], outputs=fin)\n",
        "model.compile(loss='categorical_crossentropy', optimizer='adam', metrics=['acc'])\n",
        "print(model.summary())"
      ],
      "execution_count": 70,
      "outputs": [
        {
          "output_type": "stream",
          "text": [
            "Model: \"functional_5\"\n",
            "__________________________________________________________________________________________________\n",
            "Layer (type)                    Output Shape         Param #     Connected to                     \n",
            "==================================================================================================\n",
            "input_5 (InputLayer)            [(None, 20)]         0                                            \n",
            "__________________________________________________________________________________________________\n",
            "input_6 (InputLayer)            [(None, 20)]         0                                            \n",
            "__________________________________________________________________________________________________\n",
            "embedding_4 (Embedding)         (None, 20, 24)       600000      input_5[0][0]                    \n",
            "__________________________________________________________________________________________________\n",
            "embedding_5 (Embedding)         (None, 20, 24)       600000      input_6[0][0]                    \n",
            "__________________________________________________________________________________________________\n",
            "batch_normalization_4 (BatchNor (None, 20, 24)       96          embedding_4[0][0]                \n",
            "__________________________________________________________________________________________________\n",
            "batch_normalization_5 (BatchNor (None, 20, 24)       96          embedding_5[0][0]                \n",
            "__________________________________________________________________________________________________\n",
            "lstm_8 (LSTM)                   (None, 20, 32)       7296        batch_normalization_4[0][0]      \n",
            "__________________________________________________________________________________________________\n",
            "lstm_10 (LSTM)                  (None, 20, 32)       7296        batch_normalization_5[0][0]      \n",
            "__________________________________________________________________________________________________\n",
            "lstm_9 (LSTM)                   (None, 16)           3136        lstm_8[0][0]                     \n",
            "__________________________________________________________________________________________________\n",
            "lstm_11 (LSTM)                  (None, 16)           3136        lstm_10[0][0]                    \n",
            "__________________________________________________________________________________________________\n",
            "concatenate_2 (Concatenate)     (None, 32)           0           lstm_9[0][0]                     \n",
            "                                                                 lstm_11[0][0]                    \n",
            "__________________________________________________________________________________________________\n",
            "dense_2 (Dense)                 (None, 6)            198         concatenate_2[0][0]              \n",
            "==================================================================================================\n",
            "Total params: 1,221,254\n",
            "Trainable params: 1,221,158\n",
            "Non-trainable params: 96\n",
            "__________________________________________________________________________________________________\n",
            "None\n"
          ],
          "name": "stdout"
        }
      ]
    },
    {
      "cell_type": "code",
      "metadata": {
        "id": "2iuIF6QlLeOU",
        "colab_type": "code",
        "colab": {
          "base_uri": "https://localhost:8080/",
          "height": 638
        },
        "outputId": "70da51de-bb2b-4263-9fab-cc7f81245b60"
      },
      "source": [
        "from keras.utils import plot_model\n",
        "plot_model(model, to_file='model_plot3.png', show_shapes=True, show_layer_names=True)"
      ],
      "execution_count": 71,
      "outputs": [
        {
          "output_type": "execute_result",
          "data": {
            "image/png": "[encoded data removed]",
            "text/plain": [
              "<IPython.core.display.Image object>"
            ]
          },
          "metadata": {
            "tags": []
          },
          "execution_count": 71
        }
      ]
    },
    {
      "cell_type": "code",
      "metadata": {
        "id": "ldjp0zolLniQ",
        "colab_type": "code",
        "colab": {
          "base_uri": "https://localhost:8080/",
          "height": 207
        },
        "outputId": "187b5672-87b8-4e44-8363-32d770b42a8e"
      },
      "source": [
        "history = model.fit(x=[padded1, padded2], y=train_label1, batch_size=128, epochs=5, validation_split=0.1)"
      ],
      "execution_count": 74,
      "outputs": [
        {
          "output_type": "stream",
          "text": [
            "Epoch 1/5\n",
            "211/211 [==============================] - 21s 99ms/step - loss: 0.3004 - acc: 0.8913 - val_loss: 1.8057 - val_acc: 0.5503\n",
            "Epoch 2/5\n",
            "211/211 [==============================] - 21s 99ms/step - loss: 0.2768 - acc: 0.8983 - val_loss: 1.9028 - val_acc: 0.5397\n",
            "Epoch 3/5\n",
            "211/211 [==============================] - 21s 99ms/step - loss: 0.2637 - acc: 0.9028 - val_loss: 1.9857 - val_acc: 0.5300\n",
            "Epoch 4/5\n",
            "211/211 [==============================] - 21s 100ms/step - loss: 0.2525 - acc: 0.9083 - val_loss: 2.0519 - val_acc: 0.5287\n",
            "Epoch 5/5\n",
            "211/211 [==============================] - 21s 99ms/step - loss: 0.2363 - acc: 0.9133 - val_loss: 2.1415 - val_acc: 0.5290\n"
          ],
          "name": "stdout"
        }
      ]
    },
    {
      "cell_type": "code",
      "metadata": {
        "id": "oQejEs-cQv-n",
        "colab_type": "code",
        "colab": {
          "base_uri": "https://localhost:8080/",
          "height": 85
        },
        "outputId": "59c83fe3-cc93-4820-adab-ff210e07dbc4"
      },
      "source": [
        "accr = model.evaluate([testing_padded, testing_padded2],test_label1)\n",
        "print('Test set\\n  Loss: {:0.3f}\\n  Accuracy: {:0.3f}'.format(accr[0],accr[1]))"
      ],
      "execution_count": 75,
      "outputs": [
        {
          "output_type": "stream",
          "text": [
            "10/10 [==============================] - 0s 6ms/step - loss: 1.9393 - acc: 0.5268\n",
            "Test set\n",
            "  Loss: 1.939\n",
            "  Accuracy: 0.527\n"
          ],
          "name": "stdout"
        }
      ]
    }
  ]
}